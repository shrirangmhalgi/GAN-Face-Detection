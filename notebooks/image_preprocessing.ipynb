{
 "cells": [
  {
   "cell_type": "code",
   "execution_count": 178,
   "id": "145273c6",
   "metadata": {},
   "outputs": [],
   "source": [
    "# importing the packages\n",
    "import pandas as pd\n",
    "import os\n",
    "from PIL import Image\n",
    "import cv2\n",
    "import numpy as np\n",
    "import matplotlib.pyplot as plt\n",
    "from tqdm import tqdm\n",
    "import seaborn as sns\n",
    "import matplotlib.pyplot as plt"
   ]
  },
  {
   "cell_type": "code",
   "execution_count": 17,
   "id": "112d41c4",
   "metadata": {},
   "outputs": [],
   "source": [
    "# setting the dataset path\n",
    "dataset_path = \"../datasets/\"\n",
    "twitter_gan_folder = \"TwitterGAN/\"\n",
    "random_twitter_folder = \"25k_random_twitter_images/\"\n",
    "style_gan_folder = \"styleGAN_25k/\""
   ]
  },
  {
   "cell_type": "code",
   "execution_count": 18,
   "id": "2a13eea4",
   "metadata": {},
   "outputs": [
    {
     "data": {
      "text/plain": [
       "'There are 272 images present which are identified as GAN faces'"
      ]
     },
     "execution_count": 18,
     "metadata": {},
     "output_type": "execute_result"
    }
   ],
   "source": [
    "# twitter faces test_set\n",
    "twitter_gan_faces_list = os.listdir(f\"{dataset_path + twitter_gan_folder}\")\n",
    "f\"There are {len(twitter_gan_faces_list)} images present which are identified as GAN faces\""
   ]
  },
  {
   "cell_type": "code",
   "execution_count": 19,
   "id": "fa689b9f",
   "metadata": {},
   "outputs": [
    {
     "data": {
      "text/plain": [
       "'There are 27290 images present'"
      ]
     },
     "execution_count": 19,
     "metadata": {},
     "output_type": "execute_result"
    }
   ],
   "source": [
    "# random twitter profile pictures\n",
    "random_twitter_profiles_list = os.listdir(f\"{dataset_path + random_twitter_folder}\")\n",
    "f\"There are {len(random_twitter_profiles_list)} images present\""
   ]
  },
  {
   "cell_type": "markdown",
   "id": "301d8b53",
   "metadata": {},
   "source": [
    "## Our aim is to detect open and closed eyes, along with nose and lips.\n",
    "\n",
    "We are using 2 different cascades for eye detection\n",
    "<br>\n",
    "1 for nose detection\n",
    "<br>\n",
    "1 for lips detection\n",
    "<br>\n",
    "Reference https://stackoverflow.com/questions/48905775/difference-betweeen-haarcascade-eye-and-haarcascade-eye-tree-eyeglasses-xml\n",
    "https://stackoverflow.com/questions/20801015/recommended-values-for-opencv-detectmultiscale-parameters"
   ]
  },
  {
   "cell_type": "code",
   "execution_count": 114,
   "id": "7eecb3df",
   "metadata": {},
   "outputs": [],
   "source": [
    "# read the face and eye cascade values\n",
    "face_cascade = cv2.CascadeClassifier('haarcascade_frontalface_default.xml')\n",
    "feature_cascade = cv2.CascadeClassifier('haarcascade_lefteye_2splits.xml')"
   ]
  },
  {
   "cell_type": "markdown",
   "id": "523af2d9",
   "metadata": {},
   "source": [
    "## Extracting faces from random twitter images"
   ]
  },
  {
   "cell_type": "code",
   "execution_count": 171,
   "id": "5a035a28",
   "metadata": {},
   "outputs": [
    {
     "name": "stderr",
     "output_type": "stream",
     "text": [
      "100%|████████████████████████████████████████████| 9/9 [46:11<00:00, 307.91s/it]\n"
     ]
    },
    {
     "data": {
      "text/plain": [
       "'done with the processing of data....'"
      ]
     },
     "execution_count": 171,
     "metadata": {},
     "output_type": "execute_result"
    }
   ],
   "source": [
    "# eye center formula = (x + int(w/2), y + int(h/2))\n",
    "\n",
    "positive_feature_count = 0\n",
    "negative_feature_count = 0\n",
    "\n",
    "features_list = []\n",
    "experiments_list = []\n",
    "\n",
    "# conducting experiment for min_neighbors = 2 to 10 and increasing the sf by 5%\n",
    "for min_neighbors in tqdm(range(2, 11)):\n",
    "    # reinitializing the scale_factor\n",
    "    scale_factor = 1.00\n",
    "    \n",
    "    while scale_factor <= 1.2:\n",
    "        # incrementing the scale_factor\n",
    "        scale_factor += 0.01\n",
    "        \n",
    "        # reinitializing the count metrics\n",
    "        positive_feature_count = 0\n",
    "        negative_feature_count = 0\n",
    "        features_list = []\n",
    "                \n",
    "        # extracting the faces and eye coordinates\n",
    "        for file_path in twitter_gan_faces_list:\n",
    "            img = cv2.imread(f\"{dataset_path + twitter_gan_folder + file_path}\", cv2.IMREAD_GRAYSCALE) \n",
    "\n",
    "            # resizing the image to same dimension\n",
    "            img = cv2.resize(img, (200, 200))\n",
    "\n",
    "            # detect for face\n",
    "            face_rect = face_cascade.detectMultiScale(img, scaleFactor=1.05, minNeighbors=5)\n",
    "\n",
    "            # front face found\n",
    "            if len(face_rect) != 0:\n",
    "                # detect features\n",
    "                feature_rect = feature_cascade.detectMultiScale(img, scaleFactor=scale_factor, minNeighbors=min_neighbors)   \n",
    "\n",
    "                # features found\n",
    "                if len(feature_rect) != 0:\n",
    "                    for (x, y, w, h) in eye_rect:\n",
    "                        # appending the coordinate\n",
    "                        features_list.append([file_path, x + int(w/2), y + int(h/2)])\n",
    "\n",
    "                        # increment the left eye positive count\n",
    "                        positive_feature_count += 1\n",
    "                else:\n",
    "                    # increment the negative count\n",
    "                    negative_feature_count += 1\n",
    "        \n",
    "        # creating a df for x and y features\n",
    "        df = pd.DataFrame(features_list, columns=['file_name', 'feature_x', 'feature_y'])\n",
    "        file_name = f\"facial_features_{scale_factor}_{min_neighbors}_features.csv\"\n",
    "        df.to_csv(f\"./results/{file_name}\")\n",
    "        df.drop(df.index , inplace=True)\n",
    "\n",
    "        experiments_list.append([scale_factor, min_neighbors, positive_feature_count, negative_feature_count, file_name])\n",
    "\n",
    "f\"done with the processing of data....\""
   ]
  },
  {
   "cell_type": "code",
   "execution_count": 173,
   "id": "6478b2a0",
   "metadata": {},
   "outputs": [],
   "source": [
    "df = pd.DataFrame(experiments_list, columns=['scale_factor', 'min_neighbors', 'positive_feature_count', 'negative_feature_count', 'file_name'])\n",
    "df.to_csv(\"experiments_csv\")"
   ]
  },
  {
   "cell_type": "code",
   "execution_count": 174,
   "id": "8f70991d",
   "metadata": {},
   "outputs": [],
   "source": [
    "experiments_df = pd.read_csv(\"experiments_csv\")"
   ]
  },
  {
   "cell_type": "code",
   "execution_count": 175,
   "id": "eb44710b",
   "metadata": {},
   "outputs": [],
   "source": [
    "experiments_df = experiments_df.drop(columns=['Unnamed: 0'])"
   ]
  },
  {
   "cell_type": "code",
   "execution_count": 176,
   "id": "bf8e629e",
   "metadata": {},
   "outputs": [
    {
     "data": {
      "text/html": [
       "<div>\n",
       "<style scoped>\n",
       "    .dataframe tbody tr th:only-of-type {\n",
       "        vertical-align: middle;\n",
       "    }\n",
       "\n",
       "    .dataframe tbody tr th {\n",
       "        vertical-align: top;\n",
       "    }\n",
       "\n",
       "    .dataframe thead th {\n",
       "        text-align: right;\n",
       "    }\n",
       "</style>\n",
       "<table border=\"1\" class=\"dataframe\">\n",
       "  <thead>\n",
       "    <tr style=\"text-align: right;\">\n",
       "      <th></th>\n",
       "      <th>scale_factor</th>\n",
       "      <th>min_neighbors</th>\n",
       "      <th>positive_feature_count</th>\n",
       "      <th>negative_feature_count</th>\n",
       "      <th>file_name</th>\n",
       "    </tr>\n",
       "  </thead>\n",
       "  <tbody>\n",
       "    <tr>\n",
       "      <th>0</th>\n",
       "      <td>1.01</td>\n",
       "      <td>2</td>\n",
       "      <td>1088</td>\n",
       "      <td>0</td>\n",
       "      <td>facial_features_1.01_2_features.csv</td>\n",
       "    </tr>\n",
       "    <tr>\n",
       "      <th>1</th>\n",
       "      <td>1.02</td>\n",
       "      <td>2</td>\n",
       "      <td>1084</td>\n",
       "      <td>1</td>\n",
       "      <td>facial_features_1.02_2_features.csv</td>\n",
       "    </tr>\n",
       "    <tr>\n",
       "      <th>2</th>\n",
       "      <td>1.03</td>\n",
       "      <td>2</td>\n",
       "      <td>1084</td>\n",
       "      <td>1</td>\n",
       "      <td>facial_features_1.03_2_features.csv</td>\n",
       "    </tr>\n",
       "    <tr>\n",
       "      <th>3</th>\n",
       "      <td>1.04</td>\n",
       "      <td>2</td>\n",
       "      <td>1076</td>\n",
       "      <td>3</td>\n",
       "      <td>facial_features_1.04_2_features.csv</td>\n",
       "    </tr>\n",
       "    <tr>\n",
       "      <th>4</th>\n",
       "      <td>1.05</td>\n",
       "      <td>2</td>\n",
       "      <td>1076</td>\n",
       "      <td>3</td>\n",
       "      <td>facial_features_1.05_2_features.csv</td>\n",
       "    </tr>\n",
       "  </tbody>\n",
       "</table>\n",
       "</div>"
      ],
      "text/plain": [
       "   scale_factor  min_neighbors  positive_feature_count  \\\n",
       "0          1.01              2                    1088   \n",
       "1          1.02              2                    1084   \n",
       "2          1.03              2                    1084   \n",
       "3          1.04              2                    1076   \n",
       "4          1.05              2                    1076   \n",
       "\n",
       "   negative_feature_count                            file_name  \n",
       "0                       0  facial_features_1.01_2_features.csv  \n",
       "1                       1  facial_features_1.02_2_features.csv  \n",
       "2                       1  facial_features_1.03_2_features.csv  \n",
       "3                       3  facial_features_1.04_2_features.csv  \n",
       "4                       3  facial_features_1.05_2_features.csv  "
      ]
     },
     "execution_count": 176,
     "metadata": {},
     "output_type": "execute_result"
    }
   ],
   "source": [
    "experiments_df.head()"
   ]
  },
  {
   "cell_type": "code",
   "execution_count": 179,
   "id": "3a795fc3",
   "metadata": {},
   "outputs": [
    {
     "data": {
      "text/plain": [
       "<AxesSubplot:xlabel='scale_factor', ylabel='positive_feature_count'>"
      ]
     },
     "execution_count": 179,
     "metadata": {},
     "output_type": "execute_result"
    },
    {
     "data": {
      "image/png": "[encoded data removed]",
      "text/plain": [
       "<Figure size 432x288 with 1 Axes>"
      ]
     },
     "metadata": {
      "needs_background": "light"
     },
     "output_type": "display_data"
    }
   ],
   "source": [
    "sns.lineplot(data=experiments_df, x=experiments_df[\"scale_factor\"], y=experiments_df[\"positive_feature_count\"], hue=experiments_df[\"min_neighbors\"])"
   ]
  },
  {
   "cell_type": "code",
   "execution_count": 181,
   "id": "0de8a8c6",
   "metadata": {},
   "outputs": [
    {
     "data": {
      "text/plain": [
       "1088"
      ]
     },
     "execution_count": 181,
     "metadata": {},
     "output_type": "execute_result"
    }
   ],
   "source": [
    "max(experiments_df[\"positive_feature_count\"])"
   ]
  },
  {
   "cell_type": "code",
   "execution_count": 182,
   "id": "5109b119",
   "metadata": {},
   "outputs": [
    {
     "data": {
      "text/html": [
       "<div>\n",
       "<style scoped>\n",
       "    .dataframe tbody tr th:only-of-type {\n",
       "        vertical-align: middle;\n",
       "    }\n",
       "\n",
       "    .dataframe tbody tr th {\n",
       "        vertical-align: top;\n",
       "    }\n",
       "\n",
       "    .dataframe thead th {\n",
       "        text-align: right;\n",
       "    }\n",
       "</style>\n",
       "<table border=\"1\" class=\"dataframe\">\n",
       "  <thead>\n",
       "    <tr style=\"text-align: right;\">\n",
       "      <th></th>\n",
       "      <th>scale_factor</th>\n",
       "      <th>min_neighbors</th>\n",
       "      <th>positive_feature_count</th>\n",
       "      <th>negative_feature_count</th>\n",
       "      <th>file_name</th>\n",
       "    </tr>\n",
       "  </thead>\n",
       "  <tbody>\n",
       "    <tr>\n",
       "      <th>0</th>\n",
       "      <td>1.01</td>\n",
       "      <td>2</td>\n",
       "      <td>1088</td>\n",
       "      <td>0</td>\n",
       "      <td>facial_features_1.01_2_features.csv</td>\n",
       "    </tr>\n",
       "    <tr>\n",
       "      <th>20</th>\n",
       "      <td>1.01</td>\n",
       "      <td>3</td>\n",
       "      <td>1088</td>\n",
       "      <td>0</td>\n",
       "      <td>facial_features_1.01_3_features.csv</td>\n",
       "    </tr>\n",
       "    <tr>\n",
       "      <th>40</th>\n",
       "      <td>1.01</td>\n",
       "      <td>4</td>\n",
       "      <td>1088</td>\n",
       "      <td>0</td>\n",
       "      <td>facial_features_1.01_4_features.csv</td>\n",
       "    </tr>\n",
       "  </tbody>\n",
       "</table>\n",
       "</div>"
      ],
      "text/plain": [
       "    scale_factor  min_neighbors  positive_feature_count  \\\n",
       "0           1.01              2                    1088   \n",
       "20          1.01              3                    1088   \n",
       "40          1.01              4                    1088   \n",
       "\n",
       "    negative_feature_count                            file_name  \n",
       "0                        0  facial_features_1.01_2_features.csv  \n",
       "20                       0  facial_features_1.01_3_features.csv  \n",
       "40                       0  facial_features_1.01_4_features.csv  "
      ]
     },
     "execution_count": 182,
     "metadata": {},
     "output_type": "execute_result"
    }
   ],
   "source": [
    "experiments_df.query('positive_feature_count == positive_feature_count.max()')"
   ]
  },
  {
   "cell_type": "code",
   "execution_count": 184,
   "id": "ae10c521",
   "metadata": {},
   "outputs": [
    {
     "data": {
      "text/plain": [
       "['facial_features_1.01_2_features.csv',\n",
       " '.DS_Store',\n",
       " 'image_preprocessing.ipynb',\n",
       " 'haarcascade_eye.xml',\n",
       " 'haarcascade_lefteye_2splits.xml',\n",
       " 'Image Preprocessing and eye detection.ipynb',\n",
       " 'haar cascade.ipynb',\n",
       " 'haarcascade_righteye_2splits.xml',\n",
       " 'experiments_csv',\n",
       " 'experiments1_csv',\n",
       " 'haarcascade_frontalface_default.xml',\n",
       " '.ipynb_checkpoints']"
      ]
     },
     "execution_count": 184,
     "metadata": {},
     "output_type": "execute_result"
    }
   ],
   "source": [
    "os.listdir(\"./\")"
   ]
  },
  {
   "cell_type": "code",
   "execution_count": 185,
   "id": "002201e4",
   "metadata": {},
   "outputs": [],
   "source": [
    "facial_features_df = pd.read_csv(\"facial_features_1.01_2_features.csv\")"
   ]
  },
  {
   "cell_type": "code",
   "execution_count": 186,
   "id": "b4b9fc43",
   "metadata": {},
   "outputs": [
    {
     "data": {
      "text/html": [
       "<div>\n",
       "<style scoped>\n",
       "    .dataframe tbody tr th:only-of-type {\n",
       "        vertical-align: middle;\n",
       "    }\n",
       "\n",
       "    .dataframe tbody tr th {\n",
       "        vertical-align: top;\n",
       "    }\n",
       "\n",
       "    .dataframe thead th {\n",
       "        text-align: right;\n",
       "    }\n",
       "</style>\n",
       "<table border=\"1\" class=\"dataframe\">\n",
       "  <thead>\n",
       "    <tr style=\"text-align: right;\">\n",
       "      <th></th>\n",
       "      <th>Unnamed: 0</th>\n",
       "      <th>file_name</th>\n",
       "      <th>feature_x</th>\n",
       "      <th>feature_y</th>\n",
       "    </tr>\n",
       "  </thead>\n",
       "  <tbody>\n",
       "    <tr>\n",
       "      <th>0</th>\n",
       "      <td>0</td>\n",
       "      <td>twitter_GAN_profiles_1673898489_16132647404652...</td>\n",
       "      <td>73</td>\n",
       "      <td>93</td>\n",
       "    </tr>\n",
       "    <tr>\n",
       "      <th>1</th>\n",
       "      <td>1</td>\n",
       "      <td>twitter_GAN_profiles_1673898489_16132647404652...</td>\n",
       "      <td>122</td>\n",
       "      <td>93</td>\n",
       "    </tr>\n",
       "    <tr>\n",
       "      <th>2</th>\n",
       "      <td>2</td>\n",
       "      <td>twitter_GAN_profiles_1673898489_16132647404652...</td>\n",
       "      <td>93</td>\n",
       "      <td>119</td>\n",
       "    </tr>\n",
       "    <tr>\n",
       "      <th>3</th>\n",
       "      <td>3</td>\n",
       "      <td>twitter_GAN_profiles_1673898489_16132647404652...</td>\n",
       "      <td>96</td>\n",
       "      <td>141</td>\n",
       "    </tr>\n",
       "    <tr>\n",
       "      <th>4</th>\n",
       "      <td>4</td>\n",
       "      <td>twitter_GAN_profiles_1675459188_14972759585118...</td>\n",
       "      <td>73</td>\n",
       "      <td>93</td>\n",
       "    </tr>\n",
       "  </tbody>\n",
       "</table>\n",
       "</div>"
      ],
      "text/plain": [
       "   Unnamed: 0                                          file_name  feature_x  \\\n",
       "0           0  twitter_GAN_profiles_1673898489_16132647404652...         73   \n",
       "1           1  twitter_GAN_profiles_1673898489_16132647404652...        122   \n",
       "2           2  twitter_GAN_profiles_1673898489_16132647404652...         93   \n",
       "3           3  twitter_GAN_profiles_1673898489_16132647404652...         96   \n",
       "4           4  twitter_GAN_profiles_1675459188_14972759585118...         73   \n",
       "\n",
       "   feature_y  \n",
       "0         93  \n",
       "1         93  \n",
       "2        119  \n",
       "3        141  \n",
       "4         93  "
      ]
     },
     "execution_count": 186,
     "metadata": {},
     "output_type": "execute_result"
    }
   ],
   "source": [
    "facial_features_df.head()"
   ]
  },
  {
   "cell_type": "code",
   "execution_count": 188,
   "id": "c8d14bb6",
   "metadata": {},
   "outputs": [],
   "source": [
    "facial_features_df = facial_features_df.drop([\"Unnamed: 0\"], axis=1)"
   ]
  },
  {
   "cell_type": "code",
   "execution_count": 205,
   "id": "d22cad0d",
   "metadata": {},
   "outputs": [
    {
     "data": {
      "text/plain": [
       "{(73, 93), (93, 119), (96, 141), (122, 93)}"
      ]
     },
     "execution_count": 205,
     "metadata": {},
     "output_type": "execute_result"
    }
   ],
   "source": [
    "facial_features_df.shape\n",
    "set_s = set()\n",
    "\n",
    "for i in range(len(facial_features_df)):\n",
    "    set_s.add((facial_features_df[\"feature_x\"][i], facial_features_df[\"feature_y\"][i]))\n",
    "set_s"
   ]
  },
  {
   "cell_type": "code",
   "execution_count": 194,
   "id": "ddedb3e5",
   "metadata": {},
   "outputs": [
    {
     "data": {
      "text/plain": [
       "<AxesSubplot:xlabel='feature_x', ylabel='feature_y'>"
      ]
     },
     "execution_count": 194,
     "metadata": {},
     "output_type": "execute_result"
    },
    {
     "data": {
      "image/png": "[encoded data removed]",
      "text/plain": [
       "<Figure size 432x288 with 1 Axes>"
      ]
     },
     "metadata": {
      "needs_background": "light"
     },
     "output_type": "display_data"
    }
   ],
   "source": [
    "sns.scatterplot(data=facial_features_df, x=\"feature_x\", y=\"feature_y\")"
   ]
  },
  {
   "cell_type": "code",
   "execution_count": 217,
   "id": "90fef646",
   "metadata": {},
   "outputs": [
    {
     "data": {
      "text/html": [
       "<div>\n",
       "<style scoped>\n",
       "    .dataframe tbody tr th:only-of-type {\n",
       "        vertical-align: middle;\n",
       "    }\n",
       "\n",
       "    .dataframe tbody tr th {\n",
       "        vertical-align: top;\n",
       "    }\n",
       "\n",
       "    .dataframe thead th {\n",
       "        text-align: right;\n",
       "    }\n",
       "</style>\n",
       "<table border=\"1\" class=\"dataframe\">\n",
       "  <thead>\n",
       "    <tr style=\"text-align: right;\">\n",
       "      <th></th>\n",
       "      <th>distance</th>\n",
       "      <th>number_of_images</th>\n",
       "    </tr>\n",
       "  </thead>\n",
       "  <tbody>\n",
       "    <tr>\n",
       "      <th>0</th>\n",
       "      <td>49</td>\n",
       "      <td>300</td>\n",
       "    </tr>\n",
       "    <tr>\n",
       "      <th>1</th>\n",
       "      <td>49</td>\n",
       "      <td>300</td>\n",
       "    </tr>\n",
       "  </tbody>\n",
       "</table>\n",
       "</div>"
      ],
      "text/plain": [
       "   distance  number_of_images\n",
       "0        49               300\n",
       "1        49               300"
      ]
     },
     "execution_count": 217,
     "metadata": {},
     "output_type": "execute_result"
    }
   ],
   "source": [
    "temp_df = pd.DataFrame([[122 - 73 + 93 - 93, 300], [122 - 73 + 93 - 93, 300]], columns=[\"distance\", \"number_of_images\"] )\n",
    "temp_df\n",
    "\n",
    "\n",
    "# fetch coordinate which has same or close enough y coordinate value.."
   ]
  },
  {
   "cell_type": "code",
   "execution_count": null,
   "id": "05bcc85c",
   "metadata": {},
   "outputs": [],
   "source": []
  },
  {
   "cell_type": "code",
   "execution_count": null,
   "id": "14896c7f",
   "metadata": {},
   "outputs": [],
   "source": []
  },
  {
   "cell_type": "code",
   "execution_count": null,
   "id": "9c43dde1",
   "metadata": {},
   "outputs": [],
   "source": []
  },
  {
   "cell_type": "code",
   "execution_count": null,
   "id": "cb5b8e66",
   "metadata": {},
   "outputs": [],
   "source": []
  },
  {
   "cell_type": "code",
   "execution_count": null,
   "id": "af01c701",
   "metadata": {},
   "outputs": [],
   "source": []
  },
  {
   "cell_type": "code",
   "execution_count": null,
   "id": "ad4126c8",
   "metadata": {},
   "outputs": [],
   "source": []
  },
  {
   "cell_type": "code",
   "execution_count": null,
   "id": "73783618",
   "metadata": {},
   "outputs": [],
   "source": []
  },
  {
   "cell_type": "code",
   "execution_count": null,
   "id": "4714e9b5",
   "metadata": {},
   "outputs": [],
   "source": []
  },
  {
   "cell_type": "code",
   "execution_count": null,
   "id": "37666b1e",
   "metadata": {},
   "outputs": [],
   "source": []
  },
  {
   "cell_type": "code",
   "execution_count": null,
   "id": "21ff5733",
   "metadata": {},
   "outputs": [],
   "source": []
  },
  {
   "cell_type": "code",
   "execution_count": null,
   "id": "da5f00cb",
   "metadata": {},
   "outputs": [],
   "source": []
  },
  {
   "cell_type": "code",
   "execution_count": null,
   "id": "37130098",
   "metadata": {},
   "outputs": [],
   "source": []
  },
  {
   "cell_type": "code",
   "execution_count": null,
   "id": "7b0371bc",
   "metadata": {},
   "outputs": [],
   "source": []
  },
  {
   "cell_type": "code",
   "execution_count": null,
   "id": "cebfd457",
   "metadata": {},
   "outputs": [],
   "source": [
    "# sakshi is giving the final train set... (50k images)\n",
    "# use this train set to conduct experimentation and find the best value for haar cascade values of scale factor and min_neighbor for eye\n",
    "# "
   ]
  }
 ],
 "metadata": {
  "kernelspec": {
   "display_name": "Python 3 (ipykernel)",
   "language": "python",
   "name": "python3"
  },
  "language_info": {
   "codemirror_mode": {
    "name": "ipython",
    "version": 3
   },
   "file_extension": ".py",
   "mimetype": "text/x-python",
   "name": "python",
   "nbconvert_exporter": "python",
   "pygments_lexer": "ipython3",
   "version": "3.9.12"
  }
 },
 "nbformat": 4,
 "nbformat_minor": 5
}
